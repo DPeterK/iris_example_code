{
 "metadata": {
  "name": "area_weights"
 },
 "nbformat": 3,
 "nbformat_minor": 0,
 "worksheets": [
  {
   "cells": [
    {
     "cell_type": "markdown",
     "metadata": {},
     "source": [
      "## Shapefile area averaging\n",
      "\n",
      "### Introduction\n",
      "\n",
      "This example demonstrates how to find the area weighting of a cube's data points that fall within a given geometry from a shapefile. By performing an area weighting it allows us to account for data cells that only fall partially within our geometry, by determining the percentage of the cell's area that falls within the geometry. We can use that percentage to define its overall contribution when we perform a mathematical operation on the values within the geometry (for example by using a function from `iris.analysis` that may be used in conjunction with `cube.collapsed`).\n",
      "\n",
      "Let's look at this pictorally:"
     ]
    },
    {
     "cell_type": "markdown",
     "metadata": {},
     "source": [
      "![Image of shapefile geometry and cube cells overlapping](files/img/area_weighting.png)"
     ]
    },
    {
     "cell_type": "markdown",
     "metadata": {},
     "source": [
      "In the image the black grid is the grid of data cells from the cube, the blue line is the extent of the shapefile geometry and the green filled area is the area of the grid that sits within the shapefile. Clearly there are numerous cells toward the centre of the grid that entirely sit within the geometry, so the values of these cells will contribute 100% to the mathematical operation to be performed. However the top centre cell only overlaps the geometry by about 10%, so will only contribute 10% of its value, and so on."
     ]
    },
    {
     "cell_type": "markdown",
     "metadata": {},
     "source": [
      "An example of when this might be valuable is determining the total rainfall within a UK county over a given time period. This would be done by collapsing the cube over the time dimension and finding the sum of all the values that lie within the geometry of the county we are interested in. As in the image above, not all cells will be fully contained within the geometry but if we want to find only the rain that falls within the county's geometry then we need to find the area-weighted amount of the total rainfall for that cell that fell within the geometry."
     ]
    },
    {
     "cell_type": "markdown",
     "metadata": {},
     "source": [
      "### Worked Example\n",
      "\n",
      "In this example we will determine the area-weighted average air temperature of the UK in the year 2098 in the A1B climate futures scenario."
     ]
    },
    {
     "cell_type": "markdown",
     "metadata": {},
     "source": [
      "Let's start by importing the libraries we will need for this example, and checking the version of Iris being used."
     ]
    },
    {
     "cell_type": "code",
     "collapsed": false,
     "input": [
      "import cartopy.io.shapereader as shpreader\n",
      "import iris\n",
      "import iris.analysis.geometry as iag"
     ],
     "language": "python",
     "metadata": {},
     "outputs": [],
     "prompt_number": 1
    },
    {
     "cell_type": "code",
     "collapsed": false,
     "input": [
      "print('Iris version: {}'.format(iris.__version__))"
     ],
     "language": "python",
     "metadata": {},
     "outputs": [
      {
       "output_type": "stream",
       "stream": "stdout",
       "text": [
        "Iris version: 1.5.1\n"
       ]
      }
     ],
     "prompt_number": 2
    },
    {
     "cell_type": "markdown",
     "metadata": {},
     "source": [
      "Now we will import some data; namely the A1B scenario global air temperatures file."
     ]
    },
    {
     "cell_type": "code",
     "collapsed": false,
     "input": [
      "a1b_cube = iris.load_cube(iris.sample_data_path('A1B.2098.pp'))\n",
      "lats = a1b_cube.coord('latitude')\n",
      "lons = a1b_cube.coord('longitude')\n",
      "if not lats.has_bounds():\n",
      "    lats.guess_bounds()\n",
      "if not lons.has_bounds():\n",
      "    lons.guess_bounds()"
     ],
     "language": "python",
     "metadata": {},
     "outputs": [],
     "prompt_number": 3
    },
    {
     "cell_type": "markdown",
     "metadata": {},
     "source": [
      "The `iris.analysis` function that we will use to calculate the area weights require each lateral coordinate from the cube to have bounds set, so if either of our cube's lateral coordinates are not bounded, we use the guess_bounds method to set some bounds on each lateral coordinate.\n",
      "\n",
      "Now we will import a shapefile to use, being the Natural Earth global country boundaries shapefile."
     ]
    },
    {
     "cell_type": "code",
     "collapsed": false,
     "input": [
      "shp_file = shpreader.natural_earth(resolution='110m',\n",
      "                                   category='cultural',\n",
      "                                   name='admin_0_countries')\n",
      "borders = shpreader.Reader(shp_file)\n",
      "uk_geom, = [g for g in borders.records() if g.attributes['name_long']=='United Kingdom']"
     ],
     "language": "python",
     "metadata": {},
     "outputs": [],
     "prompt_number": 4
    },
    {
     "cell_type": "markdown",
     "metadata": {},
     "source": [
      "Here the shapefile is specified and read using functions built into `cartopy.io`. The UK's geometry is determined by iterating over all the records in the shapefile looking for a record whose `name_long` matches to the UK's long name.\n",
      "\n",
      "With the UK's geometry selected from the loaded shapefile, it is ready to be passed to the area weights calculating function:"
     ]
    },
    {
     "cell_type": "code",
     "collapsed": false,
     "input": [
      "weights = iag.geometry_area_weights(a1b_cube, uk_geom.geometry)\n",
      "cube_collapsed = a1b_cube.collapsed(['latitude', 'longitude'],\n",
      "                                    iris.analysis.MEAN,\n",
      "                                    weights=weights)\n",
      "print('Average UK air temp in 2098: {:.3f}K'.format(cube_collapsed.data[0]))"
     ],
     "language": "python",
     "metadata": {},
     "outputs": [
      {
       "output_type": "stream",
       "stream": "stdout",
       "text": [
        "Average UK air temp in 2098: 288.180K\n"
       ]
      }
     ],
     "prompt_number": 6
    },
    {
     "cell_type": "markdown",
     "metadata": {},
     "source": [
      "These steps calculate the area-weighted values for the cube based on the UK's geometries. These are passed to the collapse call, which collapses to find the mean, area weighted, over both lateral coordinates. Finally, the resultant cube's single data point (average UK air temperature in 2098 according to the A1B scenario) is printed."
     ]
    },
    {
     "cell_type": "markdown",
     "metadata": {},
     "source": [
      "### Something to be aware of\n",
      "\n",
      "A note of caution to end on. The example shown here works in Euclidean space; curvature of the earth is not accounted for in the area calculations performed."
     ]
    }
   ],
   "metadata": {}
  }
 ]
}