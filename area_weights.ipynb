{
 "metadata": {
  "name": "area_weights"
 },
 "nbformat": 3,
 "nbformat_minor": 0,
 "worksheets": [
  {
   "cells": [
    {
     "cell_type": "code",
     "collapsed": false,
     "input": [
      "Shapefile area averaging example"
     ],
     "language": "python",
     "metadata": {},
     "outputs": []
    },
    {
     "cell_type": "heading",
     "level": 3,
     "metadata": {},
     "source": [
      "Introduction"
     ]
    },
    {
     "cell_type": "markdown",
     "metadata": {},
     "source": [
      "This example works through determining the area-weighting of a cube's data against a given shape, or set of shapes, from a shapefile. This allows us to, for example, ..."
     ]
    },
    {
     "cell_type": "markdown",
     "metadata": {},
     "source": [
      "To begin, we will import the various libraries we will need for this worked example, and check the versions of Iris and Cartopy being used."
     ]
    },
    {
     "cell_type": "code",
     "collapsed": false,
     "input": [
      "from matplotlib.collections import PatchCollection\n",
      "from matplotlib.colors import Normalize\n",
      "import matplotlib.pyplot as plt\n",
      "import numpy as np\n",
      "\n",
      "import cartopy\n",
      "import cartopy.crs as ccrs\n",
      "import cartopy.feature as cfeat\n",
      "from cartopy.io.shapereader import Reader, natural_earth\n",
      "import iris\n",
      "import iris.analysis.geometry as iag\n",
      "import iris.quickplot as qplt"
     ],
     "language": "python",
     "metadata": {},
     "outputs": [
      {
       "output_type": "stream",
       "stream": "stderr",
       "text": [
        "/usr/local/sci/lib/python2.7/site-packages/mpl_toolkits/__init__.py:2: UserWarning: Module dateutil was already imported from /usr/local/sci/lib/python2.7/site-packages/dateutil/__init__.pyc, but /usr/local/sci/lib/python2.7/site-packages/python_dateutil-1.5-py2.7.egg is being added to sys.path\n",
        "  __import__('pkg_resources').declare_namespace(__name__)\n"
       ]
      }
     ],
     "prompt_number": 3
    },
    {
     "cell_type": "code",
     "collapsed": false,
     "input": [
      "print('Iris version: {}'.format(iris.__version__))\n",
      "print('Cartopy version: {}'.format(cartopy.__version__))"
     ],
     "language": "python",
     "metadata": {},
     "outputs": [
      {
       "output_type": "stream",
       "stream": "stdout",
       "text": [
        "Iris version: 1.5.1\n",
        "Cartopy version: 0.9.0\n"
       ]
      }
     ],
     "prompt_number": 4
    },
    {
     "cell_type": "heading",
     "level": 3,
     "metadata": {},
     "source": [
      "Loading required data"
     ]
    },
    {
     "cell_type": "markdown",
     "metadata": {},
     "source": [
      "Now we will load some data. In this example (at the moment!) we will show the area-weighted average temperature per continent according to the IPCC (?) A1B scenario in 2098. We will also need a shapefile that describes the continents, so we will use Natural Earth data and cartopy's built-in shapefile reader to load that."
     ]
    },
    {
     "cell_type": "code",
     "collapsed": false,
     "input": [
      "cube = iris.load_cube(iris.sample_data_path('A1B.2098.pp'))\n",
      "lats = cube.coord('latitude')\n",
      "lons = cube.coord('longitude')\n",
      "if not lats.has_bounds():\n",
      "    lats.guess_bounds()\n",
      "if not lons.has_bounds():\n",
      "    lons.guess_bounds()\n",
      "\n",
      "shp_file = natural_earth(resolution='110m',\n",
      "                        category='physical',\n",
      "                        name='land')\n",
      "borders = Reader(shp_file)"
     ],
     "language": "python",
     "metadata": {},
     "outputs": []
    },
    {
     "cell_type": "markdown",
     "metadata": {},
     "source": [
      "Note the explicit setting of bounds on the latitude and longitude coordinates. This is performed because the area weighting function to be introduced below requires bounds set on both horizontal coordinates."
     ]
    },
    {
     "cell_type": "heading",
     "level": 3,
     "metadata": {},
     "source": [
      "Processing the area weights"
     ]
    },
    {
     "cell_type": "markdown",
     "metadata": {},
     "source": [
      "Now we iterate across each geometry present in our shapefile as loaded above. For each geometry we call the `iris.analysis` function `geometry_area_weights`. "
     ]
    },
    {
     "cell_type": "code",
     "collapsed": false,
     "input": [
      "country_avg = []\n",
      "for continent in borders.geometries():\n",
      "    weights = iag.geometry_area_weights(cube, continent)\n",
      "    As we want to find the area-weighted average only within the current geometry, we mask all elements of the \n",
      "    country_avg.append(np.ma.average(weights))"
     ],
     "language": "python",
     "metadata": {},
     "outputs": []
    },
    {
     "cell_type": "markdown",
     "metadata": {},
     "source": [
      "\n",
      "\n",
      "This compares each data point within the supplied cube to the supplied geometry and returns an area-weighted value for each point.\n",
      "\n",
      "The area-weighting is based on the percentage overlap of each point with the geometry. Thus a point completely encapsulated by the geometry contributes 100% of its original value, a point completely outside the geometry contributes 0% and, for example, a point 60% inside the geometry contributes 60% of its original value."
     ]
    },
    {
     "cell_type": "markdown",
     "metadata": {},
     "source": [
      "These values are returned as a numpy array. As we want to find the area-weighted average only within the current geometry, we mask the points outside of the current geometry (from above, these will contribute 0 so we mask where the array equals 0) using `numpy.ma` and use the numpy masked array average function to find the mean value of the resultant array.\n",
      "\n",
      "To display this information on a map we need to assign a relevant colour to each of the geometries used in the area-weighting. "
     ]
    },
    {
     "cell_type": "heading",
     "level": 3,
     "metadata": {},
     "source": [
      "Plotting"
     ]
    },
    {
     "cell_type": "markdown",
     "metadata": {},
     "source": [
      "Now that we have processed the data "
     ]
    },
    {
     "cell_type": "code",
     "collapsed": false,
     "input": [],
     "language": "python",
     "metadata": {},
     "outputs": []
    }
   ],
   "metadata": {}
  }
 ]
}