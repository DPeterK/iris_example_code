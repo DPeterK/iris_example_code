{
 "metadata": {
  "name": "coord_categorisation"
 },
 "nbformat": 3,
 "nbformat_minor": 0,
 "worksheets": [
  {
   "cells": [
    {
     "cell_type": "markdown",
     "metadata": {},
     "source": [
      "## Coordinate Categorisation\n",
      "\n",
      "### Introduction\n",
      "\n",
      "Coordinate categorisation allows data within a given coordinate on a cube to be categorised, notably in terms of adding a time category, for example days of week, month or year, or season membership. Such categorisation appears as an aux coord on the cube, having the same dimensions as the time coordinate.\n",
      "\n",
      "Let's take a look at an example. In this example we will take the A1B-scenario climate futures data for North America, which contains 240 yearly timesteps from 1860 to 2099, and categorise this time coord first by year and then by decade. We will use the former categorisation to extract data from the cube from after the year 1980 and the latter categorisation to plot the cube's data on a series of per-decade aggregations."
     ]
    },
    {
     "cell_type": "markdown",
     "metadata": {},
     "source": [
      "### The Example\n",
      "\n",
      "We will start by importing required libraries, checking versions of Iris and Cartopy and loading the A1B scenario data for North America."
     ]
    },
    {
     "cell_type": "code",
     "collapsed": false,
     "input": [
      "import matplotlib.pyplot as plt\n",
      "\n",
      "import cartopy\n",
      "import cartopy.crs as ccrs\n",
      "import iris\n",
      "import iris.coord_categorisation as coord_cat"
     ],
     "language": "python",
     "metadata": {},
     "outputs": [
      {
       "output_type": "stream",
       "stream": "stderr",
       "text": [
        "/usr/local/sci/lib/python2.7/site-packages/mpl_toolkits/__init__.py:2: UserWarning: Module dateutil was already imported from /usr/local/sci/lib/python2.7/site-packages/dateutil/__init__.pyc, but /usr/local/sci/lib/python2.7/site-packages/python_dateutil-1.5-py2.7.egg is being added to sys.path\n",
        "  __import__('pkg_resources').declare_namespace(__name__)\n"
       ]
      }
     ],
     "prompt_number": 1
    },
    {
     "cell_type": "code",
     "collapsed": false,
     "input": [
      "print('Iris version: {}'.format(iris.__version__))\n",
      "print('Cartopy version: {}'.format(cartopy.__version__))"
     ],
     "language": "python",
     "metadata": {},
     "outputs": [
      {
       "output_type": "stream",
       "stream": "stdout",
       "text": [
        "Iris version: 1.5.1\n",
        "Cartopy version: 0.9.0\n"
       ]
      }
     ],
     "prompt_number": 2
    },
    {
     "cell_type": "code",
     "collapsed": false,
     "input": [
      "a1b_cube = iris.load_cube(iris.sample_data_path('A1B_north_america.nc'))\n",
      "print a1b_cube"
     ],
     "language": "python",
     "metadata": {},
     "outputs": [
      {
       "output_type": "stream",
       "stream": "stdout",
       "text": [
        "air_temperature / (K)               (time: 240; latitude: 37; longitude: 49)\n",
        "     Dimension coordinates:\n",
        "          time                           x              -              -\n",
        "          latitude                       -              x              -\n",
        "          longitude                      -              -              x\n",
        "     Auxiliary coordinates:\n",
        "          forecast_period                x              -              -\n",
        "     Scalar coordinates:\n",
        "          forecast_reference_time: 1859-09-01 06:00:00\n",
        "          height: 1.5 m\n",
        "     Attributes:\n",
        "          Conventions: CF-1.5\n",
        "          Model scenario: A1B\n",
        "          STASH: m01s03i236\n",
        "          source: Data from Met Office Unified Model 6.05\n",
        "     Cell methods:\n",
        "          mean: time (6 hour)\n"
       ]
      }
     ],
     "prompt_number": 3
    },
    {
     "cell_type": "markdown",
     "metadata": {},
     "source": [
      "Now we will categorise the time coord by year and use the resultant aux coord to extract a subset of the cube that has a year value of 1980 or greater."
     ]
    },
    {
     "cell_type": "code",
     "collapsed": false,
     "input": [
      "coord_cat.add_year(a1b_cube, 'time', name='year')\n",
      "after_1980 = a1b_cube.extract(iris.Constraint(year=lambda cell: cell>1979))\n",
      "print after_1980"
     ],
     "language": "python",
     "metadata": {},
     "outputs": [
      {
       "output_type": "stream",
       "stream": "stdout",
       "text": [
        "air_temperature / (K)               (time: 120; latitude: 37; longitude: 49)\n",
        "     Dimension coordinates:\n",
        "          time                           x              -              -\n",
        "          latitude                       -              x              -\n",
        "          longitude                      -              -              x\n",
        "     Auxiliary coordinates:\n",
        "          forecast_period                x              -              -\n",
        "          year                           x              -              -\n",
        "     Scalar coordinates:\n",
        "          forecast_reference_time: 1859-09-01 06:00:00\n",
        "          height: 1.5 m\n",
        "     Attributes:\n",
        "          Conventions: CF-1.5\n",
        "          Model scenario: A1B\n",
        "          STASH: m01s03i236\n",
        "          source: Data from Met Office Unified Model 6.05\n",
        "     Cell methods:\n",
        "          mean: time (6 hour)\n"
       ]
      }
     ],
     "prompt_number": 4
    },
    {
     "cell_type": "markdown",
     "metadata": {},
     "source": [
      "Categorising a time coordinate by year is one of the functions built-in to `iris.coord_categorisation`, meaning that happily for us we do not have to write it ourselves. In the above block of code we do two things: add the categorised coordinate and then extract by year greater than 1980. Note that the categorised coordinate appears as an aux coord (`year`) on the cube printed above, and shares a dimension with the time coordinate, as would be expected.\n",
      "\n",
      "Now we will also add a 'decade' aux coord to our smaller cube `after_1980` above. Unlike categorising by year, this is not a built-in function, so we will not get this for free!\n",
      "\n",
      "Instead we will first write a function that will perform the categorisation. This function has the same generalised style as all coord categorisation functions in that it takes a coordinate and a specific point from that coordinate as its argument, and returns the point, categorised as required. This generalised style also means this, or any function like it, can be used with the general coord categorisation function `iris.coord_categorisation.add_categorised_coord`, as will be demonstrated below."
     ]
    },
    {
     "cell_type": "code",
     "collapsed": false,
     "input": [
      "def decade_from_time(coord, point):\n",
      "    years = coord.units.num2date(point).year\n",
      "    return (years/10) * 10"
     ],
     "language": "python",
     "metadata": {},
     "outputs": [],
     "prompt_number": 5
    },
    {
     "cell_type": "code",
     "collapsed": false,
     "input": [
      "coord_cat.add_categorised_coord(after_1980, 'decade', after_1980.coord('time'), decade_from_time)\n",
      "print after_1980"
     ],
     "language": "python",
     "metadata": {},
     "outputs": [
      {
       "output_type": "stream",
       "stream": "stdout",
       "text": [
        "air_temperature / (K)               (time: 120; latitude: 37; longitude: 49)\n",
        "     Dimension coordinates:\n",
        "          time                           x              -              -\n",
        "          latitude                       -              x              -\n",
        "          longitude                      -              -              x\n",
        "     Auxiliary coordinates:\n",
        "          decade                         x              -              -\n",
        "          forecast_period                x              -              -\n",
        "          year                           x              -              -\n",
        "     Scalar coordinates:\n",
        "          forecast_reference_time: 1859-09-01 06:00:00\n",
        "          height: 1.5 m\n",
        "     Attributes:\n",
        "          Conventions: CF-1.5\n",
        "          Model scenario: A1B\n",
        "          STASH: m01s03i236\n",
        "          source: Data from Met Office Unified Model 6.05\n",
        "     Cell methods:\n",
        "          mean: time (6 hour)\n"
       ]
      }
     ],
     "prompt_number": 6
    },
    {
     "cell_type": "markdown",
     "metadata": {},
     "source": [
      "Performing this coord categorisation has added a further aux coord to our cube, called `decade`. This contains year values rounded to the decade they sit within, such that 1995 is rounded to 1990 or 2058 is rounded to 2050. This means there are 10 data values for each unique year value within our `decade` coord, so we can aggregate these 10 values together to get one mean value for each decade within our cube.\n",
      "\n",
      "Being able to do things like this is one of the real benefits of coord categorisation.\n",
      "\n",
      "Let's go ahead and aggregate our cube by decade to get decadal mean values. Then we can plot these decadal means."
     ]
    },
    {
     "cell_type": "code",
     "collapsed": false,
     "input": [
      "decadal_means = after_1980.aggregated_by('decade', iris.analysis.MEAN)\n",
      "print decadal_means"
     ],
     "language": "python",
     "metadata": {},
     "outputs": [
      {
       "output_type": "stream",
       "stream": "stdout",
       "text": [
        "air_temperature / (K)               (time: 12; latitude: 37; longitude: 49)\n",
        "     Dimension coordinates:\n",
        "          time                           x             -              -\n",
        "          latitude                       -             x              -\n",
        "          longitude                      -             -              x\n",
        "     Auxiliary coordinates:\n",
        "          decade                         x             -              -\n",
        "          forecast_period                x             -              -\n",
        "          year                           x             -              -\n",
        "     Scalar coordinates:\n",
        "          forecast_reference_time: 1859-09-01 06:00:00\n",
        "          height: 1.5 m\n",
        "     Attributes:\n",
        "          Conventions: CF-1.5\n",
        "          Model scenario: A1B\n",
        "          STASH: m01s03i236\n",
        "          history: Mean of air_temperature aggregated over decade\n",
        "          source: Data from Met Office Unified Model 6.05\n",
        "     Cell methods:\n",
        "          mean: time (6 hour)\n",
        "          mean: decade\n"
       ]
      }
     ],
     "prompt_number": 10
    },
    {
     "cell_type": "markdown",
     "metadata": {},
     "source": [
      "As makes sense, our decadal means cube has only 12 timesteps; one for each decade in the 120-year time range of our cube of years after 1980. \n",
      "\n",
      "Note that the values within the time coordinate are now the mean time values across the range covered by each point:"
     ]
    },
    {
     "cell_type": "code",
     "collapsed": false,
     "input": [
      "print decadal_means.coord('time')"
     ],
     "language": "python",
     "metadata": {},
     "outputs": [
      {
       "output_type": "stream",
       "stream": "stdout",
       "text": [
        "DimCoord([1984-12-01 00:00:00, 1994-12-01 00:00:00, 2004-12-01 00:00:00,\n",
        "       2014-12-01 00:00:00, 2024-12-01 00:00:00, 2034-12-01 00:00:00,\n",
        "       2044-12-01 00:00:00, 2054-12-01 00:00:00, 2064-12-01 00:00:00,\n",
        "       2074-12-01 00:00:00, 2084-12-01 00:00:00, 2094-12-01 00:00:00], bounds=[[1979-12-01 00:00:00, 1989-12-01 00:00:00],\n",
        "       [1989-12-01 00:00:00, 1999-12-01 00:00:00],\n",
        "       [1999-12-01 00:00:00, 2009-12-01 00:00:00],\n",
        "       [2009-12-01 00:00:00, 2019-12-01 00:00:00],\n",
        "       [2019-12-01 00:00:00, 2029-12-01 00:00:00],\n",
        "       [2029-12-01 00:00:00, 2039-12-01 00:00:00],\n",
        "       [2039-12-01 00:00:00, 2049-12-01 00:00:00],\n",
        "       [2049-12-01 00:00:00, 2059-12-01 00:00:00],\n",
        "       [2059-12-01 00:00:00, 2069-12-01 00:00:00],\n",
        "       [2069-12-01 00:00:00, 2079-12-01 00:00:00],\n",
        "       [2079-12-01 00:00:00, 2089-12-01 00:00:00],\n",
        "       [2089-12-01 00:00:00, 2099-12-01 00:00:00]], standard_name=u'time', calendar=u'360_day', var_name='time')\n"
       ]
      }
     ],
     "prompt_number": 9
    }
   ],
   "metadata": {}
  }
 ]
}