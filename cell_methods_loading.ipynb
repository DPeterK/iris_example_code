{
 "metadata": {
  "name": "cell_methods_loading"
 },
 "nbformat": 3,
 "nbformat_minor": 0,
 "worksheets": [
  {
   "cells": [
    {
     "cell_type": "markdown",
     "metadata": {},
     "source": [
      "## Loading cubes when Cell Methods are present \n",
      "\n",
      "### Introduction\n",
      "\n",
      "Iris can constrain the loading of data to a subset of the entire dataset based on metadata interpreted on the Iris Cube. This includes the ability to constrain based on the cube's cell methods, if present. These cell methods represent operations already applied to the data, describing climatological and diurnal statistics.  Available methods include point, sum, mean, maximum, minimum, mid_range, standard_deviation, variance, mode, and median.  Along with an associated coordinate, an interval is often defined.  An example cell method might be a *time mean of two hours*.  Here the method is \"mean\", \"time\" is the coordinate name and an interval of two hours indicates that the time mean is over a two hour interval.\n",
      "\n",
      "This worked example shows how to constrain the loading of cubes dependent on whether they have one or more cell methods present."
     ]
    },
    {
     "cell_type": "markdown",
     "metadata": {},
     "source": [
      "### Writing a constraining function\n",
      "\n",
      "The `iris.Constraint` function can be used to constrain cube loading in many different ways. The one that is of interest to us here is the keyword argument `cube_func`, which allows us to specify a function that takes a cube as its only argument and returns either `True` or `False`.\n",
      "\n",
      "Below is a function that does precisely that, returning `True` or `False` depending on whether the cube passed has cell methods set or not.\n",
      "\n",
      "We will also import Iris, as it's going to be needed later on."
     ]
    },
    {
     "cell_type": "code",
     "collapsed": false,
     "input": [
      "import iris\n",
      "print('Iris version: {}'.format(iris.__version__))"
     ],
     "language": "python",
     "metadata": {},
     "outputs": [
      {
       "output_type": "stream",
       "stream": "stdout",
       "text": [
        "Iris version: 1.5.1\n"
       ]
      }
     ],
     "prompt_number": 1
    },
    {
     "cell_type": "code",
     "collapsed": false,
     "input": [
      "def has_cell_methods(cube):\n",
      "    cm = cube.cell_methods\n",
      "    return len(cm) > 0"
     ],
     "language": "python",
     "metadata": {},
     "outputs": [],
     "prompt_number": 2
    },
    {
     "cell_type": "markdown",
     "metadata": {},
     "source": [
      "The `cell_methods` method always returns a tuple, which will be empty if no cell methods are set on the cube. An empty tuple has length zero, giving us a logical test to run against the input cube to determine if any cell methods are set, as performed in the `return` line above."
     ]
    },
    {
     "cell_type": "markdown",
     "metadata": {},
     "source": [
      "### Using the constraining function\n",
      "\n",
      "All that remains to do is to use our cell methods constraint function when loading some data. We will use two Iris sample data files to test whether it is working. They are:\n",
      "\n",
      "* A1B_north_america.nc (one cube that does have cell methods), and\n",
      "* colpex.pp (comprised of two individual cubes, neither of which have any cell methods).\n",
      "    \n",
      "If our constraint function above is working, we should expect to see the cube from the first file loaded fine, but neither of the cubes from the second file.\n",
      "\n",
      "Let's test this. First we need to add our function to a constraint that we can use when loading our data:"
     ]
    },
    {
     "cell_type": "code",
     "collapsed": false,
     "input": [
      "cm_constraint = iris.Constraint(cube_func=has_cell_methods)"
     ],
     "language": "python",
     "metadata": {},
     "outputs": [],
     "prompt_number": 3
    },
    {
     "cell_type": "markdown",
     "metadata": {},
     "source": [
      "Now we can test it out on our sample data. Let's start with the data that we know has cell methods:"
     ]
    },
    {
     "cell_type": "code",
     "collapsed": false,
     "input": [
      "to_load = iris.sample_data_path('A1B_north_america.nc')\n",
      "a1b_cube = iris.load_cube(to_load, cm_constraint)\n",
      "print a1b_cube"
     ],
     "language": "python",
     "metadata": {},
     "outputs": [
      {
       "output_type": "stream",
       "stream": "stdout",
       "text": [
        "air_temperature / (K)               (time: 240; latitude: 37; longitude: 49)\n",
        "     Dimension coordinates:\n",
        "          time                           x              -              -\n",
        "          latitude                       -              x              -\n",
        "          longitude                      -              -              x\n",
        "     Auxiliary coordinates:\n",
        "          forecast_period                x              -              -\n",
        "     Scalar coordinates:\n",
        "          forecast_reference_time: 1859-09-01 06:00:00\n",
        "          height: 1.5 m\n",
        "     Attributes:\n",
        "          Conventions: CF-1.5\n",
        "          Model scenario: A1B\n",
        "          STASH: m01s03i236\n",
        "          source: Data from Met Office Unified Model 6.05\n",
        "     Cell methods:\n",
        "          mean: time (6 hour)\n"
       ]
      }
     ],
     "prompt_number": 4
    },
    {
     "cell_type": "code",
     "collapsed": false,
     "input": [
      "print a1b_cube.cell_methods"
     ],
     "language": "python",
     "metadata": {},
     "outputs": [
      {
       "output_type": "stream",
       "stream": "stdout",
       "text": [
        "(CellMethod(method=u'mean', coord_names=(u'time',), intervals=(u'6 hour',), comments=()),)\n"
       ]
      }
     ],
     "prompt_number": 5
    },
    {
     "cell_type": "markdown",
     "metadata": {},
     "source": [
      "Good news! Our loading constraint has returned the cube with cell methods set, as can be seen above.\n",
      "\n",
      "Now let's try it on our data that should return two cubes *without* cell methods:"
     ]
    },
    {
     "cell_type": "code",
     "collapsed": false,
     "input": [
      "to_load = iris.sample_data_path('colpex.pp')\n",
      "colpex_cubes = iris.load(to_load, cm_constraint)\n",
      "print colpex_cubes"
     ],
     "language": "python",
     "metadata": {},
     "outputs": [
      {
       "output_type": "stream",
       "stream": "stdout",
       "text": [
        "< No cubes >\n"
       ]
      },
      {
       "output_type": "stream",
       "stream": "stderr",
       "text": [
        "/opt/ukmo/iris/default/linux64/site-packages/iris/fileformats/rules.py:823: UserWarning: Unable to create instance of HybridHeightFactory. The file(s) ['/project/avd/iris/resources/git/iris-sample-data/sample_data/colpex.pp'] don't contain field(s) for 'orography'.\n",
        "  factory=factory_name))\n"
       ]
      }
     ],
     "prompt_number": 6
    },
    {
     "cell_type": "markdown",
     "metadata": {},
     "source": [
      "And indeed we find that neither of the cubes are returned, as we would expect."
     ]
    }
   ],
   "metadata": {}
  }
 ]
}