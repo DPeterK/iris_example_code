{
 "metadata": {
  "name": ""
 },
 "nbformat": 3,
 "nbformat_minor": 0,
 "worksheets": [
  {
   "cells": [
    {
     "cell_type": "markdown",
     "metadata": {},
     "source": [
      "## Iris Example Code Contents\n",
      "\n",
      "* [Shapefile area averaging](http://nbviewer.ipython.org/urls/raw.github.com/SciTools/iris_example_code/master/area_weights.ipynb)\n",
      "* [Cell comparisons](http://nbviewer.ipython.org/urls/raw.github.com/SciTools/iris_example_code/master/cell_comparison.ipynb)\n",
      "* [Cell methods loading](http://nbviewer.ipython.org/urls/raw.github.com/SciTools/iris_example_code/master/cell_methods_loading.ipynb)\n",
      "* [Coordinate categorisation](http://nbviewer.ipython.org/urls/raw.github.com/SciTools/iris_example_code/master/coord_categorisation.ipynb)\n",
      "* [Sparse data gridding (ocean buoys)](http://nbviewer.ipython.org/urls/raw.github.com/SciTools/iris_example_code/master/ocean_buoy_gridding.ipynb)\n",
      "* [Geographic features on large-scale maps](http://nbviewer.ipython.org/urls/raw.github.com/SciTools/iris_example_code/master/geographic_features.ipynb)"
     ]
    }
   ],
   "metadata": {}
  }
 ]
}