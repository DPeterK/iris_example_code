{
 "metadata": {
  "name": "index"
 },
 "nbformat": 3,
 "nbformat_minor": 0,
 "worksheets": [
  {
   "cells": [
    {
     "cell_type": "markdown",
     "metadata": {},
     "source": [
      "## Iris Example Code Contents\n",
      "\n",
      "\n",
      "### Shapefiles\n",
      "\n",
      "* [Shapefile area averaging](http://nbviewer.ipython.org/urls/raw.github.com/dkillick/iris_example_code/master/area_weights.ipynb)\n",
      "\n",
      "\n",
      "### Cell Operations\n",
      "\n",
      "* [Cell comparisons](http://nbviewer.ipython.org/urls/raw.github.com/dkillick/iris_example_code/master/cell_comparison.ipynb)\n",
      "* [Cell methods loading](http://nbviewer.ipython.org/urls/raw.github.com/dkillick/iris_example_code/master/cell_methods_loading.ipynb)\n",
      "\n",
      "\n",
      "### Coord Operations\n",
      "\n",
      "* [Coordinate categorisation](http://nbviewer.ipython.org/urls/raw.github.com/dkillick/iris_example_code/master/coord_categorisation.ipynb)"
     ]
    }
   ],
   "metadata": {}
  }
 ]
}