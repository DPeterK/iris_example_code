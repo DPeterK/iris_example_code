{
 "metadata": {
  "name": ""
 },
 "nbformat": 3,
 "nbformat_minor": 0,
 "worksheets": [
  {
   "cells": [
    {
     "cell_type": "markdown",
     "metadata": {},
     "source": [
      "## Iris Example Code Contents\n",
      "\n",
      "* [Shapefile area averaging](http://nbviewer.ipython.org/github/pp-mo/iris_example_code/blob/ocean_obs_regrid_trialonly/area_weights.ipynb)\n",
      "* [Cell comparisons](http://nbviewer.ipython.org/github/pp-mo/iris_example_code/blob/ocean_obs_regrid_trialonly/cell_comparison.ipynb)\n",
      "* [Cell methods loading](http://nbviewer.ipython.org/github/pp-mo/iris_example_code/blob/ocean_obs_regrid_trialonly/cell_methods_loading.ipynb)\n",
      "* [Coordinate categorisation](http://nbviewer.ipython.org/github/pp-mo/iris_example_code/blob/ocean_obs_regrid_trialonly/coord_categorisation.ipynb)\n",
      "* [Sparse data gridding (ocean buoys)](http://nbviewer.ipython.org/github/pp-mo/iris_example_code/blob/ocean_obs_regrid_trialonly/ocean_buoy_gridding.ipynb)"
     ]
    },
    {
     "cell_type": "code",
     "collapsed": false,
     "input": [],
     "language": "python",
     "metadata": {},
     "outputs": []
    }
   ],
   "metadata": {}
  }
 ]
}